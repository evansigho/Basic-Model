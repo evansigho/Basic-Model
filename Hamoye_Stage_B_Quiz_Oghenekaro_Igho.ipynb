{
  "nbformat": 4,
  "nbformat_minor": 0,
  "metadata": {
    "colab": {
      "name": "Hamoye Stage B Quiz Oghenekaro Igho.ipynb",
      "provenance": [],
      "authorship_tag": "ABX9TyP+qcoxlzMg+6EM1ijnEIMj",
      "include_colab_link": true
    },
    "kernelspec": {
      "name": "python3",
      "display_name": "Python 3"
    },
    "language_info": {
      "name": "python"
    }
  },
  "cells": [
    {
      "cell_type": "markdown",
      "metadata": {
        "id": "view-in-github",
        "colab_type": "text"
      },
      "source": [
        "<a href=\"https://colab.research.google.com/github/evansigho/Basic-Model/blob/main/Hamoye_Stage_B_Quiz_Oghenekaro_Igho.ipynb\" target=\"_parent\"><img src=\"https://colab.research.google.com/assets/colab-badge.svg\" alt=\"Open In Colab\"/></a>"
      ]
    },
    {
      "cell_type": "markdown",
      "source": [
        "Stage B quiz"
      ],
      "metadata": {
        "id": "HuhC1MIQm2XQ"
      }
    },
    {
      "cell_type": "code",
      "execution_count": 6,
      "metadata": {
        "id": "bnyEP5a14Piq"
      },
      "outputs": [],
      "source": [
        "#Importing all libraries\n",
        "import pandas as pd\n",
        "import numpy as np\n",
        "import matplotlib.pyplot as plt\n",
        "from sklearn.linear_model import Lasso\n",
        "from sklearn.linear_model import Ridge"
      ]
    },
    {
      "cell_type": "code",
      "source": [
        "#Reading Libraries\n",
        "energydata = pd.read_csv('energydata_complete.csv')\n",
        "energydata.head()"
      ],
      "metadata": {
        "id": "Jn42YiaB6I2a"
      },
      "execution_count": null,
      "outputs": []
    },
    {
      "cell_type": "code",
      "source": [
        "#data description\n",
        "energydata.info()"
      ],
      "metadata": {
        "id": "XnsGC21YnI0B"
      },
      "execution_count": null,
      "outputs": []
    },
    {
      "cell_type": "code",
      "source": [
        "#remove the 'date' and 'lights' columns\n",
        "\n",
        "energydata = energydata.drop(['date', 'lights'], axis = 1) \n",
        "energydata.head()"
      ],
      "metadata": {
        "id": "hzpSNfu9lvXD"
      },
      "execution_count": null,
      "outputs": []
    },
    {
      "cell_type": "code",
      "source": [
        "#normalize the dataset\n",
        "from sklearn.preprocessing import MinMaxScaler\n",
        "\n",
        "scaler = MinMaxScaler()\n",
        "\n",
        "energydata_scaled = pd.DataFrame(scaler.fit_transform(energydata),  columns = energydata.columns)\n",
        "\n",
        "#get features and labels\n",
        "X = energydata_scaled.drop(columns=['Appliances'])\n",
        "\n",
        "y = energydata_scaled['Appliances']"
      ],
      "metadata": {
        "id": "j3c6-M3alkXu"
      },
      "execution_count": 10,
      "outputs": []
    },
    {
      "cell_type": "code",
      "source": [
        "#split the train and test data\n",
        "\n",
        "from sklearn.model_selection import train_test_split\n",
        "\n",
        "\n",
        "X_train, X_test, y_train, y_test = train_test_split(X, y, test_size=0.3, random_state=42)\n",
        "\n",
        "print('X_train shape: {}'.format(X_train.shape))\n",
        "print('y_train shape: {}'.format(y_train.shape))\n",
        "print('X_test shape: {}'.format(X_test.shape))\n",
        "print('y_test shape: {}'.format(y_test.shape))"
      ],
      "metadata": {
        "id": "mtNLW8HWo3aS",
        "outputId": "0476fcd7-2323-42da-adab-fcbd1066b8d1",
        "colab": {
          "base_uri": "https://localhost:8080/"
        }
      },
      "execution_count": 12,
      "outputs": [
        {
          "output_type": "stream",
          "name": "stdout",
          "text": [
            "X_train shape: (13814, 26)\n",
            "y_train shape: (13814,)\n",
            "X_test shape: (5921, 26)\n",
            "y_test shape: (5921,)\n"
          ]
        }
      ]
    },
    {
      "cell_type": "code",
      "source": [
        "#select a sample of the dataset\n",
        "reg_df = energydata_scaled[['T2', 'T6']]\n",
        "\n",
        "reg_df.head()"
      ],
      "metadata": {
        "id": "lC-S3UHNf7d1"
      },
      "execution_count": null,
      "outputs": []
    },
    {
      "cell_type": "code",
      "source": [
        "#reshape sample dataset\n",
        "x= reg_df['T2'].values.reshape(-1,1)\n",
        "y = reg_df['T6'].values.reshape(-1,1)"
      ],
      "metadata": {
        "id": "pjHJK9DGpNiP"
      },
      "execution_count": null,
      "outputs": []
    },
    {
      "cell_type": "code",
      "source": [
        "#split sample dataset into train and test sets\n",
        "xtrain, xtest, ytrain, ytest = train_test_split(x, y, test_size=0.3, random_state=42)"
      ],
      "metadata": {
        "id": "oVhXA3TypSG2"
      },
      "execution_count": null,
      "outputs": []
    },
    {
      "cell_type": "code",
      "source": [
        "#linear model on sample of dataset\n",
        "from sklearn import linear_model\n",
        "\n",
        "\n",
        "lin_regr = linear_model.LinearRegression()\n",
        "\n",
        "# Train the model using the training sets\n",
        "lin_regr.fit(xtrain, ytrain)\n",
        "\n",
        "# Make predictions using the testing set\n",
        "pred = lin_regr.predict(xtest)"
      ],
      "metadata": {
        "id": "iluOT-C6pV0O"
      },
      "execution_count": null,
      "outputs": []
    },
    {
      "cell_type": "markdown",
      "source": [
        "#Linear Model on Main Dataset"
      ],
      "metadata": {
        "id": "M6H32eN5qutu"
      }
    },
    {
      "cell_type": "markdown",
      "source": [
        "Question 12"
      ],
      "metadata": {
        "id": "1ckbU-a-pZ6f"
      }
    },
    {
      "cell_type": "code",
      "source": [
        "#R-squared or Coefficient of determination\n",
        "from sklearn.metrics import r2_score\n",
        "\n",
        "r2_score = r2_score(ytest, pred)\n",
        "print('R-squared:',(round(r2_score, 2)))"
      ],
      "metadata": {
        "id": "lL_VmOqQpYfY"
      },
      "execution_count": null,
      "outputs": []
    },
    {
      "cell_type": "code",
      "source": [
        "from sklearn import linear_model\n",
        "\n",
        "# Create linear regression object\n",
        "regr = linear_model.LinearRegression()\n",
        "\n",
        "# Train the model using the training sets\n",
        "regr.fit(X_train, y_train)\n",
        "\n",
        "# Make predictions using the testing set\n",
        "energy_pred = regr.predict(X_test)\n",
        "\n",
        "print(\"Training set score: {:.3f}\".format(regr.score(X_train, y_train)))\n",
        "print(\"Test set score: {:.3f}\".format(regr.score(X_test, y_test)))"
      ],
      "metadata": {
        "id": "x4GKj2_Xpvoh"
      },
      "execution_count": null,
      "outputs": []
    },
    {
      "cell_type": "markdown",
      "source": [
        "Question 13"
      ],
      "metadata": {
        "id": "oCJwM_inp2m6"
      }
    },
    {
      "cell_type": "code",
      "source": [
        "#mean absolute error (mae)\n",
        "from sklearn.metrics import mean_absolute_error\n",
        "mae = mean_absolute_error(y_test, energy_pred)\n",
        "\n",
        "print('MAE:',(round(mae, 2)))"
      ],
      "metadata": {
        "id": "DffaWxoap5Ae"
      },
      "execution_count": null,
      "outputs": []
    },
    {
      "cell_type": "code",
      "source": [
        "Question 14"
      ],
      "metadata": {
        "id": "y5kLelj1p7OW"
      },
      "execution_count": null,
      "outputs": []
    },
    {
      "cell_type": "code",
      "source": [
        "#residual sum of squares (rss)\n",
        "import numpy as np\n",
        "rss = np.sum(np.square(y_test - energy_pred))\n",
        "print('RSS:',(round(rss, 2)))"
      ],
      "metadata": {
        "id": "vMQUplqCqA_N"
      },
      "execution_count": null,
      "outputs": []
    },
    {
      "cell_type": "markdown",
      "source": [
        "Question 15"
      ],
      "metadata": {
        "id": "FL1HCEwjqRY0"
      }
    },
    {
      "cell_type": "code",
      "source": [
        "#root mean squared error\n",
        "from sklearn.metrics import  mean_squared_error\n",
        "\n",
        "rmse = np.sqrt(mean_squared_error(y_test, energy_pred))\n",
        "print('RMSE:',(round(rmse, 3)))"
      ],
      "metadata": {
        "id": "sTHrmk86qQ2l"
      },
      "execution_count": null,
      "outputs": []
    },
    {
      "cell_type": "markdown",
      "source": [
        "Question 16"
      ],
      "metadata": {
        "id": "2dDvCbW_qcSc"
      }
    },
    {
      "cell_type": "code",
      "source": [
        "#R-squared or coefficient of determination\n",
        "from sklearn.metrics import r2_score\n",
        "\n",
        "r2_score = r2_score(y_test, energy_pred)\n",
        "print('R-squared:',(round(r2_score, 2)))"
      ],
      "metadata": {
        "id": "E2S4HCM8qeNx"
      },
      "execution_count": null,
      "outputs": []
    },
    {
      "cell_type": "code",
      "source": [
        "#comparing the effects of regularisation #This function wasn't written by me.\n",
        "\n",
        "\n",
        "def get_weights_df(model, feat, col_name):\n",
        "    \n",
        "  #this function returns the weight of every feature\n",
        "    weights = pd.Series(model.coef_, feat.columns).sort_values()\n",
        "    weights_df = pd.DataFrame(weights).reset_index()\n",
        "    weights_df.columns = ['Features', col_name]\n",
        "    weights_df[col_name].round(3)\n",
        "    \n",
        "    return weights_df"
      ],
      "metadata": {
        "id": "QkuMCpx6q1Ix"
      },
      "execution_count": null,
      "outputs": []
    },
    {
      "cell_type": "markdown",
      "source": [
        "Question 17"
      ],
      "metadata": {
        "id": "jpUsEJ1wq_ct"
      }
    },
    {
      "cell_type": "code",
      "source": [
        "#weights of linear model\n",
        "linear_model_weights = get_weights_df(regr, X_train, 'Linear_Model_Weight')\n",
        "linear_model_weights"
      ],
      "metadata": {
        "id": "RJPkY_2rq3oG"
      },
      "execution_count": null,
      "outputs": []
    },
    {
      "cell_type": "markdown",
      "source": [
        "The RH_2 feature has the lowest weight while RH_1 feature has the highest weight"
      ],
      "metadata": {
        "id": "oIJP2UrYq6-U"
      }
    },
    {
      "cell_type": "markdown",
      "source": [
        "Ridge Regression (L2)"
      ],
      "metadata": {
        "id": "xkiHaEy3rHWj"
      }
    }
  ]
}